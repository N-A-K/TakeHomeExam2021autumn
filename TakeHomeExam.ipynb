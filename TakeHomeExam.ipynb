{
  "nbformat": 4,
  "nbformat_minor": 0,
  "metadata": {
    "colab": {
      "name": "TakeHomeExam.ipynb",
      "provenance": [],
      "collapsed_sections": [],
      "authorship_tag": "ABX9TyPUeFZw3Ziq/lqdC9iYUuz7",
      "include_colab_link": true
    },
    "kernelspec": {
      "name": "python3",
      "display_name": "Python 3"
    },
    "language_info": {
      "name": "python"
    }
  },
  "cells": [
    {
      "cell_type": "markdown",
      "metadata": {
        "id": "view-in-github",
        "colab_type": "text"
      },
      "source": [
        "<a href=\"https://colab.research.google.com/github/N-A-K/TakeHomeExam2021autumn/blob/main/TakeHomeExam.ipynb\" target=\"_parent\"><img src=\"https://colab.research.google.com/assets/colab-badge.svg\" alt=\"Open In Colab\"/></a>"
      ]
    },
    {
      "cell_type": "markdown",
      "metadata": {
        "id": "sgd4BcKyvQE2"
      },
      "source": [
        "1.Read in the ramen ratings file as a dataframe\n",
        "\n",
        "2.set appropriate index and column names and print out an overview of the dataframe\n",
        "\n",
        "3.Print a subset of the dataframe that only has the information of the brand of ramen and its score (hint: not groupby, or creation of new dataframe. How can we access specific rows or columns of data?)\n",
        "\n",
        "4.Oh no, it seems the last column is full of null values. Convert these to NaN.\n",
        "\n",
        "5.Display only the rows where the brand is Nissin and the rating is above 3.5 (some data type conversion might be necessary)\n",
        "\n",
        "6.Group the ramen by brand and calculate the mean, max, and min values in a single output.\n",
        "\n",
        "7.What is the mode rating for all ramen?\n",
        "\n",
        "8.Groupby brand and variety. Can you figure out a way to display this information in descending order (highest to lowest)? Which has the highest average?\n",
        "\n",
        "9.How many different brands of ramen are included in the dataset?"
      ]
    },
    {
      "cell_type": "markdown",
      "metadata": {
        "id": "v_0ATpWwvceN"
      },
      "source": [
        "1.Read in the ramen ratings file as a dataframe"
      ]
    },
    {
      "cell_type": "code",
      "metadata": {
        "id": "BsTTIkaZvbwA"
      },
      "source": [
        "import pandas as pd #import pandas and set the first column as index\n",
        "df = pd.read_csv('/content/ramen-ratings.csv', index_col=0)"
      ],
      "execution_count": 166,
      "outputs": []
    },
    {
      "cell_type": "markdown",
      "metadata": {
        "id": "h7fhVG1qvhUu"
      },
      "source": [
        "2.set appropriate index and column names and print out an overview of the dataframe"
      ]
    },
    {
      "cell_type": "code",
      "metadata": {
        "id": "2iSqm2emvkMK",
        "colab": {
          "base_uri": "https://localhost:8080/"
        },
        "outputId": "f8673bdb-d49b-45d3-bead-a58afad2063d"
      },
      "source": [
        "df.columns #look at the column names"
      ],
      "execution_count": 167,
      "outputs": [
        {
          "output_type": "execute_result",
          "data": {
            "text/plain": [
              "Index(['Brand', 'Variety', 'Style', 'Country', 'Stars', 'Top Ten'], dtype='object')"
            ]
          },
          "metadata": {},
          "execution_count": 167
        }
      ]
    },
    {
      "cell_type": "code",
      "metadata": {
        "id": "-krcZLOJheX2"
      },
      "source": [
        "df.rename(columns = {'Variety': 'Ramen', 'Stars': 'Score', 'Top Ten':'Ranking'},inplace=True)\n",
        "#change df itself"
      ],
      "execution_count": 168,
      "outputs": []
    },
    {
      "cell_type": "code",
      "metadata": {
        "id": "OAUgOGBE1cJY"
      },
      "source": [
        "df.sort_values('Review #',ascending=True,inplace=True)"
      ],
      "execution_count": 169,
      "outputs": []
    },
    {
      "cell_type": "code",
      "metadata": {
        "colab": {
          "base_uri": "https://localhost:8080/",
          "height": 234
        },
        "id": "uKi0Q3PXyKAy",
        "outputId": "0f39d520-cc3d-4ace-80ea-a781c3243593"
      },
      "source": [
        "df.head()"
      ],
      "execution_count": 170,
      "outputs": [
        {
          "output_type": "execute_result",
          "data": {
            "text/html": [
              "<div>\n",
              "<style scoped>\n",
              "    .dataframe tbody tr th:only-of-type {\n",
              "        vertical-align: middle;\n",
              "    }\n",
              "\n",
              "    .dataframe tbody tr th {\n",
              "        vertical-align: top;\n",
              "    }\n",
              "\n",
              "    .dataframe thead th {\n",
              "        text-align: right;\n",
              "    }\n",
              "</style>\n",
              "<table border=\"1\" class=\"dataframe\">\n",
              "  <thead>\n",
              "    <tr style=\"text-align: right;\">\n",
              "      <th></th>\n",
              "      <th>Brand</th>\n",
              "      <th>Ramen</th>\n",
              "      <th>Style</th>\n",
              "      <th>Country</th>\n",
              "      <th>Score</th>\n",
              "      <th>Ranking</th>\n",
              "    </tr>\n",
              "    <tr>\n",
              "      <th>Review #</th>\n",
              "      <th></th>\n",
              "      <th></th>\n",
              "      <th></th>\n",
              "      <th></th>\n",
              "      <th></th>\n",
              "      <th></th>\n",
              "    </tr>\n",
              "  </thead>\n",
              "  <tbody>\n",
              "    <tr>\n",
              "      <th>1</th>\n",
              "      <td>Westbrae</td>\n",
              "      <td>Miso Ramen</td>\n",
              "      <td>Pack</td>\n",
              "      <td>USA</td>\n",
              "      <td>0.5</td>\n",
              "      <td>NaN</td>\n",
              "    </tr>\n",
              "    <tr>\n",
              "      <th>2</th>\n",
              "      <td>Wai Wai</td>\n",
              "      <td>Tom Yum Chili Flavor</td>\n",
              "      <td>Pack</td>\n",
              "      <td>Thailand</td>\n",
              "      <td>2</td>\n",
              "      <td>NaN</td>\n",
              "    </tr>\n",
              "    <tr>\n",
              "      <th>3</th>\n",
              "      <td>Wai Wai</td>\n",
              "      <td>Tom Yum Shrimp</td>\n",
              "      <td>Pack</td>\n",
              "      <td>Thailand</td>\n",
              "      <td>2</td>\n",
              "      <td>NaN</td>\n",
              "    </tr>\n",
              "    <tr>\n",
              "      <th>4</th>\n",
              "      <td>Wai Wai</td>\n",
              "      <td>Oriental Style Instant Noodles</td>\n",
              "      <td>Pack</td>\n",
              "      <td>Thailand</td>\n",
              "      <td>1</td>\n",
              "      <td>NaN</td>\n",
              "    </tr>\n",
              "    <tr>\n",
              "      <th>5</th>\n",
              "      <td>Vifon</td>\n",
              "      <td>Hu Tiu Nam Vang [\"Phnom Penh\" style] Asian Sty...</td>\n",
              "      <td>Bowl</td>\n",
              "      <td>Vietnam</td>\n",
              "      <td>3.5</td>\n",
              "      <td>NaN</td>\n",
              "    </tr>\n",
              "  </tbody>\n",
              "</table>\n",
              "</div>"
            ],
            "text/plain": [
              "             Brand  ... Ranking\n",
              "Review #            ...        \n",
              "1         Westbrae  ...     NaN\n",
              "2          Wai Wai  ...     NaN\n",
              "3          Wai Wai  ...     NaN\n",
              "4          Wai Wai  ...     NaN\n",
              "5            Vifon  ...     NaN\n",
              "\n",
              "[5 rows x 6 columns]"
            ]
          },
          "metadata": {},
          "execution_count": 170
        }
      ]
    },
    {
      "cell_type": "markdown",
      "metadata": {
        "id": "l8gyCJ_svkf2"
      },
      "source": [
        "3.Print a subset of the dataframe that only has the information of the brand of ramen and its score (hint: not groupby, or creation of new dataframe. How can we access specific rows or columns of data?)"
      ]
    },
    {
      "cell_type": "code",
      "metadata": {
        "id": "7jyURmtGvn2a"
      },
      "source": [
        "df_new = df.loc[:, ['Brand','Score']]"
      ],
      "execution_count": 171,
      "outputs": []
    },
    {
      "cell_type": "code",
      "metadata": {
        "colab": {
          "base_uri": "https://localhost:8080/",
          "height": 234
        },
        "id": "bUv3i8DT4iJb",
        "outputId": "84e52375-ad68-427f-d515-23e51515d4df"
      },
      "source": [
        "df_new.head()"
      ],
      "execution_count": 172,
      "outputs": [
        {
          "output_type": "execute_result",
          "data": {
            "text/html": [
              "<div>\n",
              "<style scoped>\n",
              "    .dataframe tbody tr th:only-of-type {\n",
              "        vertical-align: middle;\n",
              "    }\n",
              "\n",
              "    .dataframe tbody tr th {\n",
              "        vertical-align: top;\n",
              "    }\n",
              "\n",
              "    .dataframe thead th {\n",
              "        text-align: right;\n",
              "    }\n",
              "</style>\n",
              "<table border=\"1\" class=\"dataframe\">\n",
              "  <thead>\n",
              "    <tr style=\"text-align: right;\">\n",
              "      <th></th>\n",
              "      <th>Brand</th>\n",
              "      <th>Score</th>\n",
              "    </tr>\n",
              "    <tr>\n",
              "      <th>Review #</th>\n",
              "      <th></th>\n",
              "      <th></th>\n",
              "    </tr>\n",
              "  </thead>\n",
              "  <tbody>\n",
              "    <tr>\n",
              "      <th>1</th>\n",
              "      <td>Westbrae</td>\n",
              "      <td>0.5</td>\n",
              "    </tr>\n",
              "    <tr>\n",
              "      <th>2</th>\n",
              "      <td>Wai Wai</td>\n",
              "      <td>2</td>\n",
              "    </tr>\n",
              "    <tr>\n",
              "      <th>3</th>\n",
              "      <td>Wai Wai</td>\n",
              "      <td>2</td>\n",
              "    </tr>\n",
              "    <tr>\n",
              "      <th>4</th>\n",
              "      <td>Wai Wai</td>\n",
              "      <td>1</td>\n",
              "    </tr>\n",
              "    <tr>\n",
              "      <th>5</th>\n",
              "      <td>Vifon</td>\n",
              "      <td>3.5</td>\n",
              "    </tr>\n",
              "  </tbody>\n",
              "</table>\n",
              "</div>"
            ],
            "text/plain": [
              "             Brand Score\n",
              "Review #                \n",
              "1         Westbrae   0.5\n",
              "2          Wai Wai     2\n",
              "3          Wai Wai     2\n",
              "4          Wai Wai     1\n",
              "5            Vifon   3.5"
            ]
          },
          "metadata": {},
          "execution_count": 172
        }
      ]
    },
    {
      "cell_type": "markdown",
      "metadata": {
        "id": "IhbiZOpBvoKF"
      },
      "source": [
        "4.Oh no, it seems the last column is full of null values. Convert these to NaN."
      ]
    },
    {
      "cell_type": "code",
      "metadata": {
        "id": "Z-u5JoS4vrKv",
        "colab": {
          "base_uri": "https://localhost:8080/"
        },
        "outputId": "2ac96f95-d44e-40d1-e327-afb1114f786b"
      },
      "source": [
        "df.isnull().sum() #find null values"
      ],
      "execution_count": 173,
      "outputs": [
        {
          "output_type": "execute_result",
          "data": {
            "text/plain": [
              "Brand         0\n",
              "Ramen         0\n",
              "Style         2\n",
              "Country       0\n",
              "Score         0\n",
              "Ranking    2539\n",
              "dtype: int64"
            ]
          },
          "metadata": {},
          "execution_count": 173
        }
      ]
    },
    {
      "cell_type": "code",
      "metadata": {
        "colab": {
          "base_uri": "https://localhost:8080/",
          "height": 448
        },
        "id": "HP_PhnKRxO00",
        "outputId": "43508609-624d-48ad-9130-98a47be89ef7"
      },
      "source": [
        "df.fillna('NaN') #NaN -> NaN(str) ?"
      ],
      "execution_count": 174,
      "outputs": [
        {
          "output_type": "execute_result",
          "data": {
            "text/html": [
              "<div>\n",
              "<style scoped>\n",
              "    .dataframe tbody tr th:only-of-type {\n",
              "        vertical-align: middle;\n",
              "    }\n",
              "\n",
              "    .dataframe tbody tr th {\n",
              "        vertical-align: top;\n",
              "    }\n",
              "\n",
              "    .dataframe thead th {\n",
              "        text-align: right;\n",
              "    }\n",
              "</style>\n",
              "<table border=\"1\" class=\"dataframe\">\n",
              "  <thead>\n",
              "    <tr style=\"text-align: right;\">\n",
              "      <th></th>\n",
              "      <th>Brand</th>\n",
              "      <th>Ramen</th>\n",
              "      <th>Style</th>\n",
              "      <th>Country</th>\n",
              "      <th>Score</th>\n",
              "      <th>Ranking</th>\n",
              "    </tr>\n",
              "    <tr>\n",
              "      <th>Review #</th>\n",
              "      <th></th>\n",
              "      <th></th>\n",
              "      <th></th>\n",
              "      <th></th>\n",
              "      <th></th>\n",
              "      <th></th>\n",
              "    </tr>\n",
              "  </thead>\n",
              "  <tbody>\n",
              "    <tr>\n",
              "      <th>1</th>\n",
              "      <td>Westbrae</td>\n",
              "      <td>Miso Ramen</td>\n",
              "      <td>Pack</td>\n",
              "      <td>USA</td>\n",
              "      <td>0.5</td>\n",
              "      <td>NaN</td>\n",
              "    </tr>\n",
              "    <tr>\n",
              "      <th>2</th>\n",
              "      <td>Wai Wai</td>\n",
              "      <td>Tom Yum Chili Flavor</td>\n",
              "      <td>Pack</td>\n",
              "      <td>Thailand</td>\n",
              "      <td>2</td>\n",
              "      <td>NaN</td>\n",
              "    </tr>\n",
              "    <tr>\n",
              "      <th>3</th>\n",
              "      <td>Wai Wai</td>\n",
              "      <td>Tom Yum Shrimp</td>\n",
              "      <td>Pack</td>\n",
              "      <td>Thailand</td>\n",
              "      <td>2</td>\n",
              "      <td>NaN</td>\n",
              "    </tr>\n",
              "    <tr>\n",
              "      <th>4</th>\n",
              "      <td>Wai Wai</td>\n",
              "      <td>Oriental Style Instant Noodles</td>\n",
              "      <td>Pack</td>\n",
              "      <td>Thailand</td>\n",
              "      <td>1</td>\n",
              "      <td>NaN</td>\n",
              "    </tr>\n",
              "    <tr>\n",
              "      <th>5</th>\n",
              "      <td>Vifon</td>\n",
              "      <td>Hu Tiu Nam Vang [\"Phnom Penh\" style] Asian Sty...</td>\n",
              "      <td>Bowl</td>\n",
              "      <td>Vietnam</td>\n",
              "      <td>3.5</td>\n",
              "      <td>NaN</td>\n",
              "    </tr>\n",
              "    <tr>\n",
              "      <th>...</th>\n",
              "      <td>...</td>\n",
              "      <td>...</td>\n",
              "      <td>...</td>\n",
              "      <td>...</td>\n",
              "      <td>...</td>\n",
              "      <td>...</td>\n",
              "    </tr>\n",
              "    <tr>\n",
              "      <th>2576</th>\n",
              "      <td>Ching's Secret</td>\n",
              "      <td>Singapore Curry</td>\n",
              "      <td>Pack</td>\n",
              "      <td>India</td>\n",
              "      <td>3.75</td>\n",
              "      <td>NaN</td>\n",
              "    </tr>\n",
              "    <tr>\n",
              "      <th>2577</th>\n",
              "      <td>Wei Lih</td>\n",
              "      <td>GGE Ramen Snack Tomato Flavor</td>\n",
              "      <td>Pack</td>\n",
              "      <td>Taiwan</td>\n",
              "      <td>2.75</td>\n",
              "      <td>NaN</td>\n",
              "    </tr>\n",
              "    <tr>\n",
              "      <th>2578</th>\n",
              "      <td>Nissin</td>\n",
              "      <td>Cup Noodles Chicken Vegetable</td>\n",
              "      <td>Cup</td>\n",
              "      <td>USA</td>\n",
              "      <td>2.25</td>\n",
              "      <td>NaN</td>\n",
              "    </tr>\n",
              "    <tr>\n",
              "      <th>2579</th>\n",
              "      <td>Just Way</td>\n",
              "      <td>Noodles Spicy Hot Sesame Spicy Hot Sesame Guan...</td>\n",
              "      <td>Pack</td>\n",
              "      <td>Taiwan</td>\n",
              "      <td>1</td>\n",
              "      <td>NaN</td>\n",
              "    </tr>\n",
              "    <tr>\n",
              "      <th>2580</th>\n",
              "      <td>New Touch</td>\n",
              "      <td>T's Restaurant Tantanmen</td>\n",
              "      <td>Cup</td>\n",
              "      <td>Japan</td>\n",
              "      <td>3.75</td>\n",
              "      <td>NaN</td>\n",
              "    </tr>\n",
              "  </tbody>\n",
              "</table>\n",
              "<p>2580 rows × 6 columns</p>\n",
              "</div>"
            ],
            "text/plain": [
              "                   Brand  ... Ranking\n",
              "Review #                  ...        \n",
              "1               Westbrae  ...     NaN\n",
              "2                Wai Wai  ...     NaN\n",
              "3                Wai Wai  ...     NaN\n",
              "4                Wai Wai  ...     NaN\n",
              "5                  Vifon  ...     NaN\n",
              "...                  ...  ...     ...\n",
              "2576      Ching's Secret  ...     NaN\n",
              "2577             Wei Lih  ...     NaN\n",
              "2578              Nissin  ...     NaN\n",
              "2579            Just Way  ...     NaN\n",
              "2580           New Touch  ...     NaN\n",
              "\n",
              "[2580 rows x 6 columns]"
            ]
          },
          "metadata": {},
          "execution_count": 174
        }
      ]
    },
    {
      "cell_type": "markdown",
      "metadata": {
        "id": "Kb3ez-mEvrjc"
      },
      "source": [
        "5.Display only the rows where the brand is Nissin and the rating is above 3.5 (some data type conversion might be necessary)"
      ]
    },
    {
      "cell_type": "code",
      "metadata": {
        "id": "kwZyDZz7vunE",
        "colab": {
          "base_uri": "https://localhost:8080/",
          "height": 448
        },
        "outputId": "d03720ac-02d4-49dd-82c3-b0083239143b"
      },
      "source": [
        "dfNissin = df.loc[(df.Brand == \"Nissin\") & (df.Score >= '3.5')]\n",
        "dfNissin"
      ],
      "execution_count": 175,
      "outputs": [
        {
          "output_type": "execute_result",
          "data": {
            "text/html": [
              "<div>\n",
              "<style scoped>\n",
              "    .dataframe tbody tr th:only-of-type {\n",
              "        vertical-align: middle;\n",
              "    }\n",
              "\n",
              "    .dataframe tbody tr th {\n",
              "        vertical-align: top;\n",
              "    }\n",
              "\n",
              "    .dataframe thead th {\n",
              "        text-align: right;\n",
              "    }\n",
              "</style>\n",
              "<table border=\"1\" class=\"dataframe\">\n",
              "  <thead>\n",
              "    <tr style=\"text-align: right;\">\n",
              "      <th></th>\n",
              "      <th>Brand</th>\n",
              "      <th>Ramen</th>\n",
              "      <th>Style</th>\n",
              "      <th>Country</th>\n",
              "      <th>Score</th>\n",
              "      <th>Ranking</th>\n",
              "    </tr>\n",
              "    <tr>\n",
              "      <th>Review #</th>\n",
              "      <th></th>\n",
              "      <th></th>\n",
              "      <th></th>\n",
              "      <th></th>\n",
              "      <th></th>\n",
              "      <th></th>\n",
              "    </tr>\n",
              "  </thead>\n",
              "  <tbody>\n",
              "    <tr>\n",
              "      <th>23</th>\n",
              "      <td>Nissin</td>\n",
              "      <td>Top Ramen Creamy Chicken</td>\n",
              "      <td>Pack</td>\n",
              "      <td>USA</td>\n",
              "      <td>4.5</td>\n",
              "      <td>NaN</td>\n",
              "    </tr>\n",
              "    <tr>\n",
              "      <th>26</th>\n",
              "      <td>Nissin</td>\n",
              "      <td>Soba Noodles With Mayo Mustard Squirt</td>\n",
              "      <td>Pack</td>\n",
              "      <td>Japan</td>\n",
              "      <td>4</td>\n",
              "      <td>NaN</td>\n",
              "    </tr>\n",
              "    <tr>\n",
              "      <th>27</th>\n",
              "      <td>Nissin</td>\n",
              "      <td>Demae Ramen Curry Flavor</td>\n",
              "      <td>Pack</td>\n",
              "      <td>Japan</td>\n",
              "      <td>4</td>\n",
              "      <td>NaN</td>\n",
              "    </tr>\n",
              "    <tr>\n",
              "      <th>28</th>\n",
              "      <td>Nissin</td>\n",
              "      <td>Chikin Ramen</td>\n",
              "      <td>Pack</td>\n",
              "      <td>Japan</td>\n",
              "      <td>5</td>\n",
              "      <td>NaN</td>\n",
              "    </tr>\n",
              "    <tr>\n",
              "      <th>70</th>\n",
              "      <td>Nissin</td>\n",
              "      <td>Demae Ramen XO Sauce Seafood</td>\n",
              "      <td>Pack</td>\n",
              "      <td>Japan</td>\n",
              "      <td>4</td>\n",
              "      <td>NaN</td>\n",
              "    </tr>\n",
              "    <tr>\n",
              "      <th>...</th>\n",
              "      <td>...</td>\n",
              "      <td>...</td>\n",
              "      <td>...</td>\n",
              "      <td>...</td>\n",
              "      <td>...</td>\n",
              "      <td>...</td>\n",
              "    </tr>\n",
              "    <tr>\n",
              "      <th>2549</th>\n",
              "      <td>Nissin</td>\n",
              "      <td>Gekikara Ramen Extra Hot Ramen Goreng</td>\n",
              "      <td>Pack</td>\n",
              "      <td>Indonesia</td>\n",
              "      <td>4.5</td>\n",
              "      <td>NaN</td>\n",
              "    </tr>\n",
              "    <tr>\n",
              "      <th>2553</th>\n",
              "      <td>Nissin</td>\n",
              "      <td>Hakata Ramen Noodle White Tonkotsu</td>\n",
              "      <td>Bowl</td>\n",
              "      <td>Japan</td>\n",
              "      <td>4.75</td>\n",
              "      <td>NaN</td>\n",
              "    </tr>\n",
              "    <tr>\n",
              "      <th>2560</th>\n",
              "      <td>Nissin</td>\n",
              "      <td>Cup Noodles Laksa Flavour</td>\n",
              "      <td>Cup</td>\n",
              "      <td>Hong Kong</td>\n",
              "      <td>4.25</td>\n",
              "      <td>NaN</td>\n",
              "    </tr>\n",
              "    <tr>\n",
              "      <th>2566</th>\n",
              "      <td>Nissin</td>\n",
              "      <td>Demae Ramen Bar Noodle Aka Tonkotsu Flavour In...</td>\n",
              "      <td>Pack</td>\n",
              "      <td>Hong Kong</td>\n",
              "      <td>5</td>\n",
              "      <td>NaN</td>\n",
              "    </tr>\n",
              "    <tr>\n",
              "      <th>2567</th>\n",
              "      <td>Nissin</td>\n",
              "      <td>Deka Buto Kimchi Pork Flavor</td>\n",
              "      <td>Bowl</td>\n",
              "      <td>Japan</td>\n",
              "      <td>4.5</td>\n",
              "      <td>NaN</td>\n",
              "    </tr>\n",
              "  </tbody>\n",
              "</table>\n",
              "<p>305 rows × 6 columns</p>\n",
              "</div>"
            ],
            "text/plain": [
              "           Brand  ... Ranking\n",
              "Review #          ...        \n",
              "23        Nissin  ...     NaN\n",
              "26        Nissin  ...     NaN\n",
              "27        Nissin  ...     NaN\n",
              "28        Nissin  ...     NaN\n",
              "70        Nissin  ...     NaN\n",
              "...          ...  ...     ...\n",
              "2549      Nissin  ...     NaN\n",
              "2553      Nissin  ...     NaN\n",
              "2560      Nissin  ...     NaN\n",
              "2566      Nissin  ...     NaN\n",
              "2567      Nissin  ...     NaN\n",
              "\n",
              "[305 rows x 6 columns]"
            ]
          },
          "metadata": {},
          "execution_count": 175
        }
      ]
    },
    {
      "cell_type": "markdown",
      "metadata": {
        "id": "6jed_ExbvvDD"
      },
      "source": [
        "6.Group the ramen by brand and calculate the mean, max, and min values in a single output."
      ]
    },
    {
      "cell_type": "code",
      "metadata": {
        "id": "NnVhN9fwiuPF"
      },
      "source": [
        "import numpy as np"
      ],
      "execution_count": 176,
      "outputs": []
    },
    {
      "cell_type": "code",
      "metadata": {
        "colab": {
          "base_uri": "https://localhost:8080/"
        },
        "id": "LItEuoaf4e_s",
        "outputId": "87e6dd5f-b550-40f6-dfbc-57812eaf515c"
      },
      "source": [
        "df.info() #I think the type of Score should be float64"
      ],
      "execution_count": 177,
      "outputs": [
        {
          "output_type": "stream",
          "name": "stdout",
          "text": [
            "<class 'pandas.core.frame.DataFrame'>\n",
            "Int64Index: 2580 entries, 1 to 2580\n",
            "Data columns (total 6 columns):\n",
            " #   Column   Non-Null Count  Dtype \n",
            "---  ------   --------------  ----- \n",
            " 0   Brand    2580 non-null   object\n",
            " 1   Ramen    2580 non-null   object\n",
            " 2   Style    2578 non-null   object\n",
            " 3   Country  2580 non-null   object\n",
            " 4   Score    2580 non-null   object\n",
            " 5   Ranking  41 non-null     object\n",
            "dtypes: object(6)\n",
            "memory usage: 141.1+ KB\n"
          ]
        }
      ]
    },
    {
      "cell_type": "code",
      "metadata": {
        "id": "N7HS2ZPl75X9"
      },
      "source": [
        "#change\n",
        "df['Score'] = pd.to_numeric(df['Score'],errors = 'coerce')"
      ],
      "execution_count": 178,
      "outputs": []
    },
    {
      "cell_type": "code",
      "metadata": {
        "colab": {
          "base_uri": "https://localhost:8080/"
        },
        "id": "aiXPOsF984ii",
        "outputId": "2c7dbbba-fdde-4f95-a4ff-a42b948f2663"
      },
      "source": [
        "#check\n",
        "df.info()"
      ],
      "execution_count": 179,
      "outputs": [
        {
          "output_type": "stream",
          "name": "stdout",
          "text": [
            "<class 'pandas.core.frame.DataFrame'>\n",
            "Int64Index: 2580 entries, 1 to 2580\n",
            "Data columns (total 6 columns):\n",
            " #   Column   Non-Null Count  Dtype  \n",
            "---  ------   --------------  -----  \n",
            " 0   Brand    2580 non-null   object \n",
            " 1   Ramen    2580 non-null   object \n",
            " 2   Style    2578 non-null   object \n",
            " 3   Country  2580 non-null   object \n",
            " 4   Score    2577 non-null   float64\n",
            " 5   Ranking  41 non-null     object \n",
            "dtypes: float64(1), object(5)\n",
            "memory usage: 141.1+ KB\n"
          ]
        }
      ]
    },
    {
      "cell_type": "code",
      "metadata": {
        "id": "4PNUXpbIvyql",
        "colab": {
          "base_uri": "https://localhost:8080/",
          "height": 448
        },
        "outputId": "f1fbfd75-91aa-47bb-b477-4b62253806ee"
      },
      "source": [
        "df.groupby(\"Brand\").Score.agg([np.mean, max, min])"
      ],
      "execution_count": 180,
      "outputs": [
        {
          "output_type": "execute_result",
          "data": {
            "text/html": [
              "<div>\n",
              "<style scoped>\n",
              "    .dataframe tbody tr th:only-of-type {\n",
              "        vertical-align: middle;\n",
              "    }\n",
              "\n",
              "    .dataframe tbody tr th {\n",
              "        vertical-align: top;\n",
              "    }\n",
              "\n",
              "    .dataframe thead th {\n",
              "        text-align: right;\n",
              "    }\n",
              "</style>\n",
              "<table border=\"1\" class=\"dataframe\">\n",
              "  <thead>\n",
              "    <tr style=\"text-align: right;\">\n",
              "      <th></th>\n",
              "      <th>mean</th>\n",
              "      <th>max</th>\n",
              "      <th>min</th>\n",
              "    </tr>\n",
              "    <tr>\n",
              "      <th>Brand</th>\n",
              "      <th></th>\n",
              "      <th></th>\n",
              "      <th></th>\n",
              "    </tr>\n",
              "  </thead>\n",
              "  <tbody>\n",
              "    <tr>\n",
              "      <th>1 To 3 Noodles</th>\n",
              "      <td>4.000000</td>\n",
              "      <td>4.00</td>\n",
              "      <td>4.00</td>\n",
              "    </tr>\n",
              "    <tr>\n",
              "      <th>7 Select</th>\n",
              "      <td>3.750000</td>\n",
              "      <td>4.00</td>\n",
              "      <td>3.50</td>\n",
              "    </tr>\n",
              "    <tr>\n",
              "      <th>7 Select/Nissin</th>\n",
              "      <td>3.500000</td>\n",
              "      <td>3.50</td>\n",
              "      <td>3.50</td>\n",
              "    </tr>\n",
              "    <tr>\n",
              "      <th>A-One</th>\n",
              "      <td>2.750000</td>\n",
              "      <td>3.50</td>\n",
              "      <td>1.25</td>\n",
              "    </tr>\n",
              "    <tr>\n",
              "      <th>A-Sha Dry Noodle</th>\n",
              "      <td>4.067308</td>\n",
              "      <td>5.00</td>\n",
              "      <td>2.00</td>\n",
              "    </tr>\n",
              "    <tr>\n",
              "      <th>...</th>\n",
              "      <td>...</td>\n",
              "      <td>...</td>\n",
              "      <td>...</td>\n",
              "    </tr>\n",
              "    <tr>\n",
              "      <th>Yum Yum</th>\n",
              "      <td>3.750000</td>\n",
              "      <td>5.00</td>\n",
              "      <td>3.00</td>\n",
              "    </tr>\n",
              "    <tr>\n",
              "      <th>Yum-Mie</th>\n",
              "      <td>3.500000</td>\n",
              "      <td>3.50</td>\n",
              "      <td>3.50</td>\n",
              "    </tr>\n",
              "    <tr>\n",
              "      <th>Zow Zow</th>\n",
              "      <td>3.750000</td>\n",
              "      <td>3.75</td>\n",
              "      <td>3.75</td>\n",
              "    </tr>\n",
              "    <tr>\n",
              "      <th>iMee</th>\n",
              "      <td>3.500000</td>\n",
              "      <td>4.50</td>\n",
              "      <td>2.75</td>\n",
              "    </tr>\n",
              "    <tr>\n",
              "      <th>iNoodle</th>\n",
              "      <td>3.000000</td>\n",
              "      <td>3.75</td>\n",
              "      <td>2.25</td>\n",
              "    </tr>\n",
              "  </tbody>\n",
              "</table>\n",
              "<p>355 rows × 3 columns</p>\n",
              "</div>"
            ],
            "text/plain": [
              "                      mean   max   min\n",
              "Brand                                 \n",
              "1 To 3 Noodles    4.000000  4.00  4.00\n",
              "7 Select          3.750000  4.00  3.50\n",
              "7 Select/Nissin   3.500000  3.50  3.50\n",
              "A-One             2.750000  3.50  1.25\n",
              "A-Sha Dry Noodle  4.067308  5.00  2.00\n",
              "...                    ...   ...   ...\n",
              "Yum Yum           3.750000  5.00  3.00\n",
              "Yum-Mie           3.500000  3.50  3.50\n",
              "Zow Zow           3.750000  3.75  3.75\n",
              "iMee              3.500000  4.50  2.75\n",
              "iNoodle           3.000000  3.75  2.25\n",
              "\n",
              "[355 rows x 3 columns]"
            ]
          },
          "metadata": {},
          "execution_count": 180
        }
      ]
    },
    {
      "cell_type": "markdown",
      "metadata": {
        "id": "eYPE2R3PvzKy"
      },
      "source": [
        "7.What is the mode rating for all ramen?"
      ]
    },
    {
      "cell_type": "code",
      "metadata": {
        "id": "AIVe2Yo9v1le",
        "colab": {
          "base_uri": "https://localhost:8080/"
        },
        "outputId": "f56ae606-d729-4981-8a7b-933ef65b4977"
      },
      "source": [
        "df['Ramen'].mode()"
      ],
      "execution_count": 181,
      "outputs": [
        {
          "output_type": "execute_result",
          "data": {
            "text/plain": [
              "0       Beef\n",
              "1    Chicken\n",
              "dtype: object"
            ]
          },
          "metadata": {},
          "execution_count": 181
        }
      ]
    },
    {
      "cell_type": "markdown",
      "metadata": {
        "id": "pjonG7-Dv17-"
      },
      "source": [
        "8.Groupby brand and variety. Can you figure out a way to display this information in descending order (highest to lowest)? Which has the highest average?"
      ]
    },
    {
      "cell_type": "code",
      "metadata": {
        "colab": {
          "base_uri": "https://localhost:8080/"
        },
        "id": "Truz6UYsAGFM",
        "outputId": "1a440d16-8e4d-4ce4-a77a-708727702ebb"
      },
      "source": [
        "grouped = df.groupby([\"Brand\", \"Ramen\"]).Score.mean()\n",
        "grouped = grouped.sort_values(ascending=False)\n",
        "grouped.head()\n",
        "#groupby works?"
      ],
      "execution_count": 186,
      "outputs": [
        {
          "output_type": "execute_result",
          "data": {
            "text/plain": [
              "Brand     Ramen                                               \n",
              "Takamori  Hearty Japanese Style Curry Udon                        5.0\n",
              "TTL       Sesame Oil Chicken Noodle With Rice Wine                5.0\n",
              "Song Hak  Rice Topokki                                            5.0\n",
              "Nissin    Gyoretsu-no-Dekiru-Mise-no-Ramen (Shrimp Tantanmen)     5.0\n",
              "Mama      Instant Cup Noodles Shrimp Tom Yum Flavour (Extreme)    5.0\n",
              "Name: Score, dtype: float64"
            ]
          },
          "metadata": {},
          "execution_count": 186
        }
      ]
    },
    {
      "cell_type": "markdown",
      "metadata": {
        "id": "fWg4jRXov59I"
      },
      "source": [
        "9.How many different brands of ramen are included in the dataset?"
      ]
    },
    {
      "cell_type": "code",
      "metadata": {
        "id": "5B3k6a8Ev8a0",
        "colab": {
          "base_uri": "https://localhost:8080/"
        },
        "outputId": "af843302-b166-4d5e-8aee-b3dbda111d9d"
      },
      "source": [
        "df['Brand'].nunique()"
      ],
      "execution_count": 187,
      "outputs": [
        {
          "output_type": "execute_result",
          "data": {
            "text/plain": [
              "355"
            ]
          },
          "metadata": {},
          "execution_count": 187
        }
      ]
    }
  ]
}